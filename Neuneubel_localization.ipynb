{
 "cells": [
  {
   "cell_type": "code",
   "execution_count": 1,
   "metadata": {},
   "outputs": [
    {
     "data": {
      "application/javascript": [
       "IPython.notebook.set_autosave_interval(180000)"
      ]
     },
     "metadata": {},
     "output_type": "display_data"
    },
    {
     "name": "stdout",
     "output_type": "stream",
     "text": [
      "Autosaving every 180 seconds\n"
     ]
    },
    {
     "data": {
      "text/html": [
       "<style>.container { width:100% !important; }</style>"
      ],
      "text/plain": [
       "<IPython.core.display.HTML object>"
      ]
     },
     "metadata": {},
     "output_type": "display_data"
    }
   ],
   "source": [
    "import numpy as np\n",
    "import pandas as pd\n",
    "from scipy.io import wavfile\n",
    "import joblib\n",
    "import seaborn as sns\n",
    "\n",
    "#%matplotlib tk\n",
    "%matplotlib tk\n",
    "\n",
    "%autosave 180\n",
    "import matplotlib.pyplot as plt\n",
    "from IPython.core.display import display, HTML\n",
    "display(HTML(\"<style>.container { width:100% !important; }</style>\"))\n",
    "\n",
    "from pylab import specgram\n",
    "from scipy.signal import argrelmax\n",
    "from scipy.stats import linregress, pearsonr\n",
    "import os\n",
    "\n",
    "#%pylab inline"
   ]
  },
  {
   "cell_type": "code",
   "execution_count": 26,
   "metadata": {
    "scrolled": true
   },
   "outputs": [
    {
     "name": "stdout",
     "output_type": "stream",
     "text": [
      "Mic locations:  (4, 3)\n",
      "GRID:  (18, 14, 3)\n",
      "d_k:  (4, 18, 14)\n",
      "tau_k:  (4, 18, 14)\n"
     ]
    }
   ],
   "source": [
    "# COMPUTE DISTANCES TO EACH MICROPHPONE FROM CAGE BOTTOM\n",
    "#At each point, we computed the distance (dk) from rg to microphone k,\n",
    "#(1) dk=∥rg−rk∥,\n",
    "\n",
    "# CAGE SIZE: 14 x 18\" at bottom; 18 x 22\" at top; height 16\"\n",
    "import scipy\n",
    "\n",
    "# mic locations\n",
    "mic_locs = []\n",
    "mic_locs.append([-2,0-2,16])\n",
    "mic_locs.append([-2,width+2,16])\n",
    "mic_locs.append([length+2,width+2,16])\n",
    "mic_locs.append([length+2,0-2,16])\n",
    "mic_locs = np.array(mic_locs)\n",
    "print (\"Mic locations: \", mic_locs.shape)\n",
    "\n",
    "# make 3D grid with spatial locations.\n",
    "inches_to_metres = 0.0254\n",
    "c = 343. # speed of sound in air\n",
    "\n",
    "width=14 * inches_to_metres\n",
    "length=18 * inches_to_metres\n",
    "granularity=1*inches_to_metres # 1 inch squares\n",
    "grid = np.zeros((int(length/granularity),int(width/granularity),3),'float32')\n",
    "for k in range(0,grid.shape[0],1):\n",
    "    for p in range(0,grid.shape[1],1):\n",
    "        grid[k,p] = [k*granularity,p*granularity,0]\n",
    "\n",
    "print (\"GRID: \", grid.shape)\n",
    "        \n",
    "# Compute all distances\n",
    "d = []\n",
    "for m in range(4):\n",
    "    dist = np.zeros((grid.shape[0],grid.shape[1]),'float32')\n",
    "    for k in range(0,grid.shape[0],1):\n",
    "        for p in range(0,grid.shape[1],1):\n",
    "            dist[k,p] =  scipy.spatial.distance.euclidean(grid[k,p],mic_locs[m])\n",
    "    d.append(dist)\n",
    "    \n",
    "d=np.array(d)\n",
    "print (\"d_k: \", d.shape)\n",
    "# plt.imshow(d[0])\n",
    "# plt.show()\n",
    "\n",
    "tau = d/c\n",
    "print (\"tau_k: \", tau.shape)\n"
   ]
  },
  {
   "cell_type": "code",
   "execution_count": null,
   "metadata": {},
   "outputs": [],
   "source": [
    "# COMPUTE SRP at every location in the GRID:\n",
    "recs = np.zeros((4,25000)) #100ms sample recording\n",
    "\n",
    "# compute SRP for a single position\n",
    "position = [0,0]\n",
    "\n",
    "# initialize SRP array\n",
    "#SRP = np.zeros((grid.shape[0],grid.shape[1]),'float32')\n",
    "\n",
    "def dFFT(rec):\n",
    "    \n",
    "    pass\n",
    "\n",
    "def cross_corr(recA, recB):\n",
    "    \n",
    "    pass\n",
    "\n",
    "def compute_r_ik(micA, micB, tau):\n",
    "    \n",
    "    N = 100\n",
    "    \n",
    "    for k in range(N):\n",
    "        \n",
    "\n",
    "SRP = 0\n",
    "locs = [0,0]\n",
    "\n",
    "# \n",
    "for t1 in range(tau_k.shape[1]):\n",
    "    for t2 in range(tau_k.shape[2]):\n",
    "        \n",
    "    # compute SRP for first mic pairs:\n",
    "        for k in [0]:\n",
    "            for p in [1]:\n",
    "                SRP+=compute_r_ik(recs[k], recs[p], tau)\n",
    "\n"
   ]
  },
  {
   "cell_type": "code",
   "execution_count": 83,
   "metadata": {},
   "outputs": [
    {
     "name": "stdout",
     "output_type": "stream",
     "text": [
      "(12000000,)\n"
     ]
    }
   ],
   "source": [
    "data = np.fromfile('/media/cat/4TBSSD/Downloads/data.bin/data.bin','int16')\n",
    "#data = np.fromfile('/media/cat/4TBSSD/data/spikingforest/synth_mearec_neuronexus_noise10_K20_C32/001_SYNTH/c9a62ee5ae1f71097a17acb9b7aca3457161c76e_int16.bin','int16')\n",
    "print (data.shape)\n",
    "\n",
    "n_chan = 10\n",
    "data_2D = data.reshape(-1,n_chan)\n",
    "#data_2D = data.reshape(n_chan,-1).T\n",
    "print (data_2D.shape)\n",
    "\n",
    "for k in range(n_chan):\n",
    "    plt.plot(data_2D[10000:20000,k]+k*500,c='black')\n",
    "    #plt.plot(data_2D[k,10000:20000]+k*500,c='black')\n",
    "plt.show()"
   ]
  },
  {
   "cell_type": "code",
   "execution_count": 111,
   "metadata": {},
   "outputs": [
    {
     "name": "stdout",
     "output_type": "stream",
     "text": [
      "(1200000, 10)\n"
     ]
    }
   ],
   "source": [
    "n_chan = 10\n",
    "data_2D = data.reshape(-1,n_chan)\n",
    "#data_2D = data.reshape(n_chan,-1).T\n",
    "print (data_2D.shape)"
   ]
  },
  {
   "cell_type": "code",
   "execution_count": 112,
   "metadata": {},
   "outputs": [],
   "source": [
    "for k in range(n_chan):\n",
    "    plt.plot(data_2D[10000:20000,k]+k*500,c='black')\n",
    "    #plt.plot(data_2D[k,10000:20000]+k*500,c='black')\n",
    "plt.show()"
   ]
  },
  {
   "cell_type": "code",
   "execution_count": null,
   "metadata": {},
   "outputs": [],
   "source": []
  }
 ],
 "metadata": {
  "kernelspec": {
   "display_name": "Python 3",
   "language": "python",
   "name": "python3"
  },
  "language_info": {
   "codemirror_mode": {
    "name": "ipython",
    "version": 3
   },
   "file_extension": ".py",
   "mimetype": "text/x-python",
   "name": "python",
   "nbconvert_exporter": "python",
   "pygments_lexer": "ipython3",
   "version": "3.7.6"
  }
 },
 "nbformat": 4,
 "nbformat_minor": 4
}
