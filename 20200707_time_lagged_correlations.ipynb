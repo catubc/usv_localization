{
 "cells": [
  {
   "cell_type": "code",
   "execution_count": 1,
   "metadata": {},
   "outputs": [
    {
     "data": {
      "application/javascript": [
       "IPython.notebook.set_autosave_interval(180000)"
      ]
     },
     "metadata": {},
     "output_type": "display_data"
    },
    {
     "name": "stdout",
     "output_type": "stream",
     "text": [
      "Autosaving every 180 seconds\n"
     ]
    },
    {
     "data": {
      "text/html": [
       "<style>.container { width:100% !important; }</style>"
      ],
      "text/plain": [
       "<IPython.core.display.HTML object>"
      ]
     },
     "metadata": {},
     "output_type": "display_data"
    }
   ],
   "source": [
    "import numpy as np\n",
    "import pandas as pd\n",
    "from scipy.io import wavfile\n",
    "import joblib\n",
    "import seaborn as sns\n",
    "#%matplotlib tk\n",
    "%matplotlib qt\n",
    "%autosave 180\n",
    "import matplotlib.pyplot as plt\n",
    "from IPython.core.display import display, HTML\n",
    "display(HTML(\"<style>.container { width:100% !important; }</style>\"))\n",
    "\n",
    "from pylab import specgram\n",
    "from scipy.signal import argrelmax\n",
    "from scipy.stats import linregress, pearsonr\n",
    "import os\n",
    "\n",
    "#%pylab inline"
   ]
  },
  {
   "cell_type": "code",
   "execution_count": 2,
   "metadata": {},
   "outputs": [],
   "source": [
    "# MAKE 2D SURFACE FROM 1D ARRAYS\n",
    "\n",
    "def make_3D_surface(lengths, r2_final, k, plotting=False):\n",
    "    \n",
    "    # select array\n",
    "    r2_array_fit = r2_final[k]\n",
    "    \n",
    "    # \n",
    "    surface = np.zeros((lengths[0]*4, lengths[1]*4),'float32')\n",
    "    #print (surface.shape)\n",
    "\n",
    "    for k in range(len(r2_array_fit)):\n",
    "        #print (k,r2_array_fit[k].shape)\n",
    "        if r2_array_fit[k].shape[0]==2080:\n",
    "            for p in range(r2_array_fit[k].shape[0]):\n",
    "                surface[p]+=r2_array_fit[k][p]/np.max(r2_array_fit[k])\n",
    "        else:\n",
    "            for p in range(r2_array_fit[k].shape[0]):\n",
    "                surface[:,p]+=r2_array_fit[k][p]/np.max(r2_array_fit[k])\n",
    "\n",
    "    scale = 10\n",
    "    if plotting:\n",
    "        ticks_old = np.arange(0,surface.shape[0],6.51)[::scale]\n",
    "        ticks_new = np.arange(0,ticks_old.shape[0],1)*scale\n",
    "        plt.yticks(ticks_old, ticks_new,fontsize=10)\n",
    "\n",
    "    if plotting:\n",
    "        ticks_old = np.arange(0,surface.shape[1],6.51)[::scale]\n",
    "        ticks_new = np.arange(0,ticks_old.shape[0],1)*scale\n",
    "        plt.xticks(ticks_old,ticks_new,fontsize=10,rotation=45)\n",
    "\n",
    "\n",
    "    idx = np.max(surface)\n",
    "    #print (idx)\n",
    "\n",
    "    idx3 = np.where(surface==idx)\n",
    "    #print (idx3)\n",
    "\n",
    "\n",
    "    idx4 = np.where(surface<np.max(surface)*0.0)\n",
    "    surface_updated = surface.copy()\n",
    "    surface_updated[idx4]=0\n",
    "\n",
    "    if plotting:\n",
    "        plt.imshow(surface_updated,cmap='viridis')\n",
    "\n",
    "        plt.scatter(idx3[1],idx3[0],s=100,c='red')\n",
    "\n",
    "        plt.xlabel(\"Length in (cms)\")\n",
    "        plt.ylabel(\"Width in (cms)\")\n",
    "        plt.suptitle(fname,fontsize=20)\n",
    "    #plt.show()\n",
    "\n",
    "    print (\"mic location: \", k, '  inferred centre: ', idx3[1],idx3[0])\n",
    "    \n",
    "    return (idx3[1],idx3[0])\n",
    "\n",
    "\n",
    "\n",
    "def correlate_raw_signal(lengths, mics, plotting=False):\n",
    "    from scipy import signal\n",
    "    import numpy.polynomial.polynomial as poly\n",
    "    \n",
    "    #lengths = np.array([260,390,260,390])*2\n",
    "    offset = np.max(lengths)*2\n",
    "\n",
    "    r2_array =[]\n",
    "    r2_array_fit = []\n",
    "    #for k in range(len(lengths)):\n",
    "    for k in range(4):\n",
    "        \n",
    "        if plotting:\n",
    "            ax=plt.subplot(2,2,k+1)\n",
    "        r2 = []\n",
    "        window = lengths[k]*2\n",
    "\n",
    "        mic1 = mics[(k+1)%4][offset:-window*2].copy()\n",
    "        #print (\"mic1: \", mic1.shape)\n",
    "        \n",
    "        if False:\n",
    "            mic1[:15000]=0\n",
    "            #mic1[18500:]=0\n",
    "            #pass\n",
    "            \n",
    "        # compute correlation across raw signal\n",
    "        for i in range(-window, window,1):\n",
    "            #call_padded = np.append(mics[k], [0]*i)[i:]\n",
    "            mic0 = mics[k][offset+i:+i-window*2].copy()\n",
    "            #print (mic0.shape, mic1.shape)\n",
    "            slope, intercept, r_value, p_value, std_err = linregress(mic0, mic1)\n",
    "            r2.append(r_value**2)\n",
    "\n",
    "        r2 = np.array(r2)\n",
    "        r2_array.append(r2)\n",
    "        idxes = argrelmax(r2, axis=0)\n",
    "        idxes = np.array(idxes).squeeze()\n",
    "        \n",
    "        idx = np.argmax(r2)\n",
    "\n",
    "        \n",
    "        # Linear interpolation\n",
    "        f = np.interp(np.arange(r2.shape[0]), idxes, r2[idxes])\n",
    "        r2_array_fit.append(f)\n",
    "\n",
    "        if plotting:\n",
    "            plt.scatter(idxes,r2[idxes],c='blue')\n",
    "            plt.scatter(idx,r2[idx],c='red')\n",
    "            print (\"Offset: \", -window+idx, \" steps, \", (-window+idx)*0.000004, \"secs\" )\n",
    "\n",
    "\n",
    "            #f = r2[idxes]\n",
    "            plt.plot(np.arange(r2.shape[0]), f, c='green')\n",
    "\n",
    "            # plot routines\n",
    "            plt.plot(r2)\n",
    "            plt.ylabel(\"mic\"+str(k)+\" and mic\"+str((k+1)%4)+ \n",
    "                       \"\\nOffset: \"+ str(-window+idx)+ \" steps, \"+ \n",
    "                       str(round((-window+idx)*0.000004,6))+ \"secs\",fontsize=15 )\n",
    "    if plotting:\n",
    "        plt.show()\n",
    "    \n",
    "    return np.array(r2_array_fit)\n",
    "\n",
    "\n",
    "\n",
    "def correlate_envelope_signal(lengths, mics, plotting=False):\n",
    "    from scipy import signal\n",
    "    import numpy.polynomial.polynomial as poly\n",
    "    from scipy.signal import hilbert, chirp\n",
    "\n",
    "    #lengths = np.array([260,390,260,390])*2\n",
    "    offset = np.max(lengths)*2\n",
    "\n",
    "    r2_array =[]\n",
    "    r2_array_fit = []\n",
    "    #for k in range(len(lengths)):\n",
    "    # loo over mics\n",
    "    for k in range(4):\n",
    "        \n",
    "        if plotting:\n",
    "            ax=plt.subplot(2,2,k+1)\n",
    "        window = lengths[k]*2\n",
    "\n",
    "        mic1 = mics[(k+1)%4][offset:-window*2].copy()\n",
    "        #print (\"mic1: \", mic1.shape)\n",
    "        \n",
    "        if False:\n",
    "            mic1[:15000]=0\n",
    "            #mic1[18500:]=0\n",
    "            #pass\n",
    "\n",
    "        #r2 = np.array(r2)\n",
    "        #r2_array.append(r2)\n",
    "        idxes = argrelmax(mic1, axis=0)\n",
    "        idxes = np.array(idxes).squeeze()\n",
    "        #fig = plt.figure(figsize=(10,10))\n",
    "\n",
    "        #plt.plot(mic1,c='black')\n",
    "        #plt.scatter(idxes,mic1[idxes],c='blue')\n",
    "        \n",
    "        # grab envelope:\n",
    "        analytic_signal = hilbert(mic1)\n",
    "        mic1_amplitude_envelope = np.abs(analytic_signal)\n",
    "        #plt.plot(amplitude_envelope,c='cyan')\n",
    "        \n",
    "        # grab envelope:\n",
    "        mic0 = mics[k][offset:-window*2].copy()\n",
    "        analytic_signal = hilbert(mic0)\n",
    "        mic0_amplitude_envelope = np.abs(analytic_signal)\n",
    "\n",
    "            \n",
    "        # compute correlation across raw signal\n",
    "        r2 = []\n",
    "        for i in range(-window, window,1):\n",
    "            #call_padded = np.append(mics[k], [0]*i)[i:]\n",
    "            \n",
    "            mic0_in = np.roll(mic0_amplitude_envelope,i)\n",
    "            #print (mic0.shape, mic1.shape)\n",
    "            slope, intercept, r_value, p_value, std_err = linregress(mic0_in, mic1_amplitude_envelope)\n",
    "            r2.append(r_value**2)\n",
    "    \n",
    "        r2 = np.array(r2)\n",
    "        r2_array.append(r2)\n",
    "#         idxes = argrelmax(r2, axis=0)\n",
    "#         idxes = np.array(idxes).squeeze()\n",
    "        \n",
    "#         idx = np.argmax(r2)\n",
    "\n",
    "        \n",
    "#         # Linear interpolation\n",
    "#         f = np.interp(np.arange(r2.shape[0]), idxes, r2[idxes])\n",
    "#         r2_array_fit.append(f)\n",
    "        \n",
    "        if plotting:\n",
    "            idx =np.argmax(r2)\n",
    "            #plt.scatter(idxes,r2[idxes],c='blue')\n",
    "            #plt.scatter(idx,r2[idx],c='red')\n",
    "            print (\"Offset: \", -window+idx, \" steps, \", (-window+idx)*0.000004, \"secs\" )\n",
    "\n",
    "            #f = r2[idxes]\n",
    "            #plt.plot(np.arange(r2.shape[0]), f, c='green')\n",
    "\n",
    "            # plot routines\n",
    "            plt.plot(r2)\n",
    "            plt.ylabel(\"mic\"+str(k)+\" and mic\"+str((k+1)%4)+ \n",
    "                       \"\\nOffset: \"+ str(-window+idx)+ \" steps, \"+ \n",
    "                       str(round((-window+idx)*0.000004,6))+ \"secs\",fontsize=15 )\n",
    "    if plotting:\n",
    "        plt.show()\n",
    "    \n",
    "    return np.array(r2_array)\n",
    "\n",
    "\n",
    "def read_filter_data(fname, call_onset, call_offset, filter_data, plotting):\n",
    "\n",
    "    # load data\n",
    "    print (\"Loading: \", fname)\n",
    "    data = np.load(fname)\n",
    "    mic0_audio = data[0]\n",
    "    mic1_audio = data[1]\n",
    "    mic2_audio = data[2]\n",
    "    mic3_audio = data[3]\n",
    "    \n",
    "    # clip data \n",
    "    #print (\"Clipping :\", call_onset, call_offset)\n",
    "    fs = 250000\n",
    "    call_mic0 = mic0_audio[int(call_onset*fs):int(call_offset*fs)]\n",
    "    call_mic1 = mic1_audio[int(call_onset*fs):int(call_offset*fs)]\n",
    "    call_mic2 = mic2_audio[int(call_onset*fs):int(call_offset*fs)]\n",
    "    call_mic3 = mic3_audio[int(call_onset*fs):int(call_offset*fs)]  \n",
    "\n",
    "\n",
    "    nfft = 1024\n",
    "    if plotting:\n",
    "        fig=plt.figure()\n",
    "        ax1=plt.subplot(4,2,1)\n",
    "        pxx, freqs, bins, im = specgram(call_mic0, NFFT=nfft, Fs=fs, noverlap=nfft/2,\n",
    "                                       clim=(-100,-80))\n",
    "        plt.ylim(0,40000)\n",
    "        plt.ylabel('mic 0')\n",
    "\n",
    "        ax1=plt.subplot(4,2,3)\n",
    "        pxx, freqs, bins, im = specgram(call_mic1, NFFT=nfft, Fs=fs, noverlap=nfft/2,\n",
    "                                       clim=(-100,-80))\n",
    "        plt.ylim(0,40000)\n",
    "        plt.ylabel('mic 1')\n",
    "\n",
    "        ax1=plt.subplot(4,2,5)\n",
    "        pxx, freqs, bins, im = specgram(call_mic2, NFFT=nfft, Fs=fs, noverlap=nfft/2,\n",
    "                                       clim=(-100,-80))\n",
    "        plt.ylim(0,40000)\n",
    "        plt.ylabel('mic 2')\n",
    "\n",
    "        ax1=plt.subplot(4,2,7)\n",
    "        pxx, freqs, bins, im = specgram(call_mic3, NFFT=nfft, Fs=fs, noverlap=nfft/2,\n",
    "                                       clim=(-100,-80))\n",
    "        plt.ylim(0,40000)\n",
    "        plt.ylabel('mic 3')\n",
    "\n",
    "    # filter data\n",
    "    start_fs = 6500\n",
    "    end_fs = 7500\n",
    "    mic0_audio_bp = butter_bandpass_filter(call_mic0, start_fs, end_fs, fs)  # YOU CAN AUTODETECT THIS\n",
    "    mic1_audio_bp = butter_bandpass_filter(call_mic1, start_fs, end_fs, fs)\n",
    "    mic2_audio_bp = butter_bandpass_filter(call_mic2, start_fs, end_fs, fs)\n",
    "    mic3_audio_bp = butter_bandpass_filter(call_mic3, start_fs, end_fs, fs)\n",
    "\n",
    "    if plotting:\n",
    "        ax2=plt.subplot(4,2,2)\n",
    "        pxx, freqs, bins, im = specgram(mic0_audio_bp, NFFT=nfft, Fs=fs, noverlap=nfft/2,\n",
    "                                       clim=(-100,-80))\n",
    "        plt.ylim(0,40000)\n",
    "\n",
    "        ax2=plt.subplot(4,2,4)\n",
    "        pxx, freqs, bins, im = specgram(mic1_audio_bp, NFFT=nfft, Fs=fs, noverlap=nfft/2,\n",
    "                                       clim=(-100,-80))\n",
    "        plt.ylim(0,40000)\n",
    "\n",
    "        ax2=plt.subplot(4,2,6)\n",
    "        pxx, freqs, bins, im = specgram(mic2_audio_bp, NFFT=nfft, Fs=fs, noverlap=nfft/2,\n",
    "                                       clim=(-100,-80))\n",
    "        plt.ylim(0,40000)\n",
    "\n",
    "        ax2=plt.subplot(4,2,8)\n",
    "        pxx, freqs, bins, im = specgram(mic3_audio_bp, NFFT=nfft, Fs=fs, noverlap=nfft/2,\n",
    "                                       clim=(-100,-80))\n",
    "        plt.ylim(0,40000)\n",
    "\n",
    "        plt.suptitle(os.path.split(fname)[1])\n",
    "    \n",
    "    if filter_data:\n",
    "        return (mic0_audio_bp, mic1_audio_bp, mic2_audio_bp, mic3_audio_bp)\n",
    "    else:\n",
    "        return (call_mic0, call_mic1, call_mic2, call_mic3)\n",
    "    \n",
    "from scipy.signal import butter, lfilter\n",
    "\n",
    "def butter_bandpass(lowcut, highcut, fs, order=5):\n",
    "    nyq = 0.5 * fs\n",
    "    low = lowcut / nyq\n",
    "    high = highcut / nyq\n",
    "    b, a = butter(order, [low, high], btype='band')\n",
    "    return b, a\n",
    "\n",
    "\n",
    "def butter_bandpass_filter(data, lowcut, highcut, fs, order=5):\n",
    "    b, a = butter_bandpass(lowcut, highcut, fs, order=order)\n",
    "    y = lfilter(b, a, data)\n",
    "    return y\n",
    "\n"
   ]
  },
  {
   "cell_type": "code",
   "execution_count": 16,
   "metadata": {},
   "outputs": [
    {
     "name": "stdout",
     "output_type": "stream",
     "text": [
      "[520 780 520 780]\n",
      "Loading:  E:\\july10_pos8A\\audio\\2020-07-10_20_05_40.673203_audio.npy\n"
     ]
    },
    {
     "name": "stderr",
     "output_type": "stream",
     "text": [
      "C:\\ProgramData\\Anaconda3\\lib\\site-packages\\ipykernel_launcher.py:211: VisibleDeprecationWarning: Creating an ndarray from ragged nested sequences (which is a list-or-tuple of lists-or-tuples-or ndarrays with different lengths or shapes) is deprecated. If you meant to do this, you must specify 'dtype=object' when creating the ndarray\n"
     ]
    },
    {
     "name": "stdout",
     "output_type": "stream",
     "text": [
      "len r2 array:  4\n",
      "Loading:  E:\\july10_pos8B\\audio\\2020-07-10_20_06_22.532042_audio.npy\n",
      "len r2 array:  4\n",
      "Loading:  E:\\july10_pos8C\\audio\\2020-07-10_20_07_19.409833_audio.npy\n",
      "len r2 array:  4\n",
      "Loading:  E:\\july10_pos8D\\audio\\2020-07-10_20_08_02.677607_audio.npy\n",
      "len r2 array:  4\n",
      "Loading:  E:\\july10_pos8E\\audio\\2020-07-10_20_09_07.645162_audio.npy\n",
      "len r2 array:  4\n",
      "Loading:  E:\\july10_pos1\\audio\\2020-07-10_20_01_52.787211_audio.npy\n",
      "len r2 array:  4\n",
      "Loading:  E:\\july10_pos5\\audio\\2020-07-10_20_03_05.256554_audio.npy\n",
      "len r2 array:  4\n",
      "Loading:  E:\\july10_pos11\\audio\\2020-07-10_20_04_20.196753_audio.npy\n",
      "len r2 array:  4\n",
      "Loading:  E:\\july10_pos15\\audio\\2020-07-10_20_03_42.148538_audio.npy\n",
      "len r2 array:  4\n",
      "DONE\n"
     ]
    }
   ],
   "source": [
    "# COMPUTE SHIFT CORRELATION AND FIT POLYNOMIAL\n",
    "\n",
    "# filenames = ['/media/cat/4TBSSD/Downloads/2020-07-10_20_05_40.673203_audio_A.npy',\n",
    "#              '/media/cat/4TBSSD/Downloads/2020-07-10_20_06_22.532042_audio_B.npy',\n",
    "#              '/media/cat/4TBSSD/Downloads/2020-07-10_20_07_19.409833_audio_C.npy',\n",
    "#              '/media/cat/4TBSSD/Downloads/2020-07-10_20_08_02.677607_audio_D.npy',\n",
    "#              '/media/cat/4TBSSD/Downloads/2020-07-10_20_09_07.645162_audio_E.npy',\n",
    "            \n",
    "#               '/media/cat/4TBSSD/Downloads/2020-07-10_20_01_52.787211_audio_pos1.npy',\n",
    "#               '/media/cat/4TBSSD/Downloads/2020-07-10_20_03_05.256554_audio_pos5.npy',\n",
    "#               '/media/cat/4TBSSD/Downloads/2020-07-10_20_04_20.196753_audio_pos11.npy',\n",
    "#               '/media/cat/4TBSSD/Downloads/2020-07-10_20_03_42.148538_audio_pos15.npy',\n",
    "#              ]\n",
    "\n",
    "filenames = [\n",
    "    r'E:\\july10_pos8A\\audio\\2020-07-10_20_05_40.673203_audio.npy',\n",
    "    r'E:\\july10_pos8B\\audio\\2020-07-10_20_06_22.532042_audio.npy',\n",
    "    r'E:\\july10_pos8C\\audio\\2020-07-10_20_07_19.409833_audio.npy',\n",
    "    r'E:\\july10_pos8D\\audio\\2020-07-10_20_08_02.677607_audio.npy',\n",
    "    r'E:\\july10_pos8E\\audio\\2020-07-10_20_09_07.645162_audio.npy',\n",
    "    \n",
    "    r'E:\\july10_pos1\\audio\\2020-07-10_20_01_52.787211_audio.npy',\n",
    "    r'E:\\july10_pos5\\audio\\2020-07-10_20_03_05.256554_audio.npy',\n",
    "    r'E:\\july10_pos11\\audio\\2020-07-10_20_04_20.196753_audio.npy',\n",
    "    r'E:\\july10_pos15\\audio\\2020-07-10_20_03_42.148538_audio.npy',\n",
    "    \n",
    "]\n",
    "\n",
    "\n",
    "# box dimensions\n",
    "width = 291\n",
    "length = 438\n",
    "lengths= [width, length, width, length]\n",
    "\n",
    "call_onsets = [1.98, \n",
    "           1.99,\n",
    "           1.99,\n",
    "           1.99,\n",
    "           1.99,\n",
    "           1.99,\n",
    "           1.99,\n",
    "           1.99,\n",
    "           1.99\n",
    "          ]\n",
    "\n",
    "call_offsets = [1.98+0.125,\n",
    "            1.99+0.125,\n",
    "            1.99+0.125,\n",
    "            1.99+0.125,\n",
    "            1.99+0.125,\n",
    "            1.99+0.125,\n",
    "            1.99+0.125,\n",
    "            1.99+0.125,\n",
    "            1.99+0.125               \n",
    "           ] \n",
    "\n",
    "lengths = np.array([260,390,260,390])*2\n",
    "offset = np.max(lengths)*2\n",
    "print (lengths)\n",
    "\n",
    "ctr=0\n",
    "r2_final = []\n",
    "for fname in filenames:\n",
    "    plotting=False\n",
    "    filter_data = True\n",
    "    mics = read_filter_data(fname, call_onsets[ctr],call_offsets[ctr], filter_data, plotting)\n",
    "    \n",
    "    plotting=False\n",
    "    r2_array_fit = correlate_envelope_signal(lengths, mics, plotting)\n",
    "    print (\"len r2 array: \", len(r2_array_fit))\n",
    "    r2_final.append(r2_array_fit)\n",
    "    ctr+=1\n",
    "\n",
    "if plotting:\n",
    "    plt.show()\n",
    "\n",
    "np.save(r'E:\\r2_final.npy',r2_final)\n",
    "print (\"DONE\")"
   ]
  },
  {
   "cell_type": "code",
   "execution_count": 5,
   "metadata": {},
   "outputs": [
    {
     "name": "stdout",
     "output_type": "stream",
     "text": [
      "[array([], dtype=float64)]\n"
     ]
    }
   ],
   "source": [
    "print (r2_final)"
   ]
  },
  {
   "cell_type": "code",
   "execution_count": 4,
   "metadata": {},
   "outputs": [],
   "source": [
    "np.save(r'E:\\r2_final.npy',r2_final)"
   ]
  },
  {
   "cell_type": "code",
   "execution_count": 3,
   "metadata": {},
   "outputs": [],
   "source": [
    "r2_final = np.load(r'E:\\r2_final.npy',allow_pickle=True)"
   ]
  },
  {
   "cell_type": "code",
   "execution_count": 17,
   "metadata": {
    "scrolled": true
   },
   "outputs": [
    {
     "name": "stdout",
     "output_type": "stream",
     "text": [
      "(4,)\n",
      "mic location:  3   inferred centre:  [1653] [972]\n",
      "mic location:  3   inferred centre:  [1575] [1068]\n",
      "mic location:  3   inferred centre:  [1557] [1067]\n",
      "mic location:  3   inferred centre:  [1561] [1016]\n",
      "mic location:  3   inferred centre:  [1559] [1058]\n",
      "mic location:  3   inferred centre:  [1566] [1037]\n",
      "mic location:  3   inferred centre:  [1560] [1200]\n",
      "mic location:  3   inferred centre:  [1560] [1189]\n",
      "mic location:  3   inferred centre:  [1566] [925]\n"
     ]
    }
   ],
   "source": [
    "# MAKE 2D FIT SURFACES\n",
    "\n",
    "print (r2_final[1].shape)\n",
    "plotting = False\n",
    "max_locs = []\n",
    "for k in range(len(r2_final)):\n",
    "#for k in range(1):\n",
    "    if plotting:\n",
    "        fig=plt.figure()\n",
    "    max_loc = make_3D_surface(lengths, r2_final,k, plotting)\n",
    "    max_locs.append(max_loc)\n",
    "if plotting:\n",
    "    plt.show()\n"
   ]
  },
  {
   "cell_type": "code",
   "execution_count": 42,
   "metadata": {},
   "outputs": [],
   "source": [
    "# clrs=['black','blue','red','green','magenta']\n",
    "# positions=['A','B','C','D','E', ]\n",
    "# for k in range(len(max_locs)):\n",
    "#     temp = np.float32(max_locs[k])*0.001372\n",
    "#     plt.scatter(temp[0],temp[1], c=clrs[k], s=200, label=\"pos \"+positions[k])\n",
    "# plt.legend(fontsize=20)\n",
    "# plt.ylabel(\"Width (Metres)\",fontsize=20)\n",
    "# plt.xlabel(\"Length (Metres)\",fontsize=20)\n",
    "# plt.show()\n",
    "    "
   ]
  },
  {
   "cell_type": "code",
   "execution_count": 19,
   "metadata": {},
   "outputs": [
    {
     "name": "stdout",
     "output_type": "stream",
     "text": [
      "0 (2, 1)\n",
      "1 (2, 1)\n",
      "2 (2, 1)\n",
      "3 (2, 1)\n",
      "4 (2, 1)\n",
      "5 (2, 1)\n",
      "6 (2, 1)\n",
      "7 (2, 1)\n",
      "8 (2, 1)\n"
     ]
    }
   ],
   "source": [
    "clrs=['black','blue','red','green','magenta', 'brown', 'cyan','yellow','darkblue']\n",
    "positions=['pos8_A','pos8_B','pos8_C','pos8_D','pos8_E', 'pos1', 'pos5','pos11','pos15']\n",
    "for k in range(len(max_locs)):\n",
    "    temp = np.float32(max_locs[k])*0.001372\n",
    "    print (k, temp.shape)\n",
    "    temp=temp[:,0]\n",
    "    plt.scatter(temp[0],temp[1], c=clrs[k], s=200)\n",
    "    plt.text(temp[0],temp[1], positions[k])\n",
    "# temp = np.float32(max_locs[0])*0.001372\n",
    "# plt.scatter(temp[0],temp[1], c=clrs[-1], s=200, label=positions[-1])\n",
    "    \n",
    "#plt.legend(fontsize=20)\n",
    "plt.ylabel(\"Width (Metres)\",fontsize=20)\n",
    "plt.xlabel(\"Length (Metres)\",fontsize=20)\n",
    "plt.show()\n",
    "    "
   ]
  },
  {
   "cell_type": "code",
   "execution_count": null,
   "metadata": {},
   "outputs": [],
   "source": []
  },
  {
   "cell_type": "code",
   "execution_count": null,
   "metadata": {},
   "outputs": [],
   "source": []
  },
  {
   "cell_type": "code",
   "execution_count": null,
   "metadata": {},
   "outputs": [],
   "source": []
  },
  {
   "cell_type": "code",
   "execution_count": null,
   "metadata": {},
   "outputs": [],
   "source": [
    "# OLD CODE"
   ]
  },
  {
   "cell_type": "code",
   "execution_count": null,
   "metadata": {},
   "outputs": [],
   "source": []
  },
  {
   "cell_type": "code",
   "execution_count": null,
   "metadata": {},
   "outputs": [],
   "source": []
  },
  {
   "cell_type": "code",
   "execution_count": null,
   "metadata": {},
   "outputs": [],
   "source": []
  },
  {
   "cell_type": "code",
   "execution_count": 39,
   "metadata": {
    "collapsed": true
   },
   "outputs": [
    {
     "name": "stdout",
     "output_type": "stream",
     "text": [
      "[[[1419]\n",
      "  [1126]]\n",
      "\n",
      " [[1515]\n",
      "  [ 975]]\n",
      "\n",
      " [[1549]\n",
      "  [1035]]\n",
      "\n",
      " [[1535]\n",
      "  [1113]]\n",
      "\n",
      " [[1583]\n",
      "  [ 953]]]\n"
     ]
    }
   ],
   "source": [
    "max_locs_pos8=np.array(max_locs).copy()\n",
    "print (max_locs_pos8)"
   ]
  },
  {
   "cell_type": "code",
   "execution_count": 2,
   "metadata": {},
   "outputs": [],
   "source": [
    "sns.set_style('white')\n",
    "sns.set_style('ticks')\n",
    "sns.set_context('talk')"
   ]
  },
  {
   "cell_type": "code",
   "execution_count": 3,
   "metadata": {},
   "outputs": [],
   "source": [
    "\n",
    "# fs0, mic0_audio = wavfile.read('/Users/ralphie787/Desktop/sanes-froemke-rotation/4mic_test/location_animals_600sec_mic0.wav')\n",
    "# fs1, mic1_audio = wavfile.read('/Users/ralphie787/Desktop/sanes-froemke-rotation/4mic_test/location_animals_600sec_mic1.wav')\n",
    "# fs2, mic2_audio = wavfile.read('/Users/ralphie787/Desktop/sanes-froemke-rotation/4mic_test/location_animals_600sec_mic2.wav')\n",
    "# fs3, mic3_audio = wavfile.read('/Users/ralphie787/Desktop/sanes-froemke-rotation/4mic_test/location_animals_600sec_mic3.wav')"
   ]
  },
  {
   "cell_type": "code",
   "execution_count": 41,
   "metadata": {},
   "outputs": [],
   "source": [
    "fname = '/media/cat/4TBSSD/Downloads/2020-07-10_20_09_07.645162_audio_E.npy'\n",
    "data = np.load(fname)\n",
    "mic0_audio = data[0]\n",
    "mic1_audio = data[1]\n",
    "mic2_audio = data[2]\n",
    "mic3_audio = data[3]"
   ]
  },
  {
   "cell_type": "code",
   "execution_count": 27,
   "metadata": {},
   "outputs": [],
   "source": [
    "plt.plot(mic0_audio)\n",
    "plt.show()"
   ]
  },
  {
   "cell_type": "code",
   "execution_count": 47,
   "metadata": {},
   "outputs": [],
   "source": [
    "call_onsets = [1.98, \n",
    "               1.99,\n",
    "               1.99,\n",
    "               1.99,\n",
    "               1.99\n",
    "              ]\n",
    "\n",
    "call_offsets = [1.98+0.125,\n",
    "                1.99+0.125,\n",
    "                1.99+0.125,\n",
    "                1.99+0.125,\n",
    "                1.99+0.125               \n",
    "               ] "
   ]
  },
  {
   "cell_type": "code",
   "execution_count": 42,
   "metadata": {},
   "outputs": [],
   "source": [
    "fs = 250000\n",
    "#onset of the stacky call minus ~10 ms\n",
    "# call_onset = 337.950\n",
    "# call_offset = 338.150 #200 ms window\n",
    "\n",
    "call_onset = 1.99\n",
    "call_offset = call_onset+0.125"
   ]
  },
  {
   "cell_type": "code",
   "execution_count": 43,
   "metadata": {},
   "outputs": [],
   "source": [
    "call_mic0 = mic0_audio[int(call_onset*fs):int(call_offset*fs)]\n",
    "call_mic1 = mic1_audio[int(call_onset*fs):int(call_offset*fs)]\n",
    "call_mic2 = mic2_audio[int(call_onset*fs):int(call_offset*fs)]\n",
    "call_mic3 = mic3_audio[int(call_onset*fs):int(call_offset*fs)]"
   ]
  },
  {
   "cell_type": "code",
   "execution_count": 44,
   "metadata": {},
   "outputs": [
    {
     "data": {
      "text/plain": [
       "Text(0.5, 1.0, 'mic 0')"
      ]
     },
     "execution_count": 44,
     "metadata": {},
     "output_type": "execute_result"
    }
   ],
   "source": [
    "nfft = 1024\n",
    "pxx, freqs, bins, im = specgram(call_mic0, NFFT=nfft, Fs=fs, noverlap=nfft/2,\n",
    "                               clim=(-100,-80))\n",
    "plt.ylim(0,40000)\n",
    "plt.colorbar()\n",
    "plt.title('mic 0')"
   ]
  },
  {
   "cell_type": "code",
   "execution_count": 8,
   "metadata": {},
   "outputs": [
    {
     "data": {
      "text/plain": [
       "Text(0.5, 1.0, 'mic1')"
      ]
     },
     "execution_count": 8,
     "metadata": {},
     "output_type": "execute_result"
    }
   ],
   "source": [
    "nfft = 1024\n",
    "pxx, freqs, bins, im = specgram(call_mic1, NFFT=nfft, Fs=fs, noverlap=nfft/2,\n",
    "                               clim=(-100,-80))\n",
    "plt.ylim(0,40000)\n",
    "plt.colorbar()\n",
    "plt.title('mic1')"
   ]
  },
  {
   "cell_type": "code",
   "execution_count": 9,
   "metadata": {},
   "outputs": [
    {
     "data": {
      "text/plain": [
       "Text(0.5, 1.0, 'mic1')"
      ]
     },
     "execution_count": 9,
     "metadata": {},
     "output_type": "execute_result"
    }
   ],
   "source": [
    "plt.figure(figsize=(20,3))\n",
    "plt.plot(call_mic0, 'k', markersize=1)\n",
    "plt.title('mic0')\n",
    "\n",
    "plt.figure(figsize=(20,3))\n",
    "plt.plot(call_mic1, 'k', markersize=1)\n",
    "plt.title('mic1')"
   ]
  },
  {
   "cell_type": "code",
   "execution_count": 13,
   "metadata": {},
   "outputs": [
    {
     "data": {
      "text/plain": [
       "Text(0.5, 1.0, 'mic1')"
      ]
     },
     "execution_count": 13,
     "metadata": {},
     "output_type": "execute_result"
    }
   ],
   "source": [
    "start = 15450\n",
    "end = 15800\n",
    "plt.figure(figsize=(20,3))\n",
    "plt.plot(call_mic0[start:end], 'k', markersize=1)\n",
    "plt.title('mic0')\n",
    "\n",
    "plt.figure(figsize=(20,3))\n",
    "plt.plot(call_mic1[start:end], 'k', markersize=1)\n",
    "plt.title('mic1')"
   ]
  },
  {
   "cell_type": "code",
   "execution_count": 16,
   "metadata": {},
   "outputs": [],
   "source": [
    "clip = 106\n",
    "plt.plot(call_mic0[clip:], call_mic1[:-clip], '.k', markersize=1)\n",
    "x = np.linspace(plt.xlim()[0], plt.xlim()[1])\n",
    "plt.plot(x,x, 'k--')\n",
    "#axis('square')\n",
    "\n",
    "sns.despine()"
   ]
  },
  {
   "cell_type": "code",
   "execution_count": 11,
   "metadata": {},
   "outputs": [],
   "source": [
    "from scipy.stats import linregress, pearsonr"
   ]
  },
  {
   "cell_type": "code",
   "execution_count": 12,
   "metadata": {},
   "outputs": [],
   "source": [
    "slope, intercept, r_value, p_value, std_err = linregress(call_mic0, call_mic1)"
   ]
  },
  {
   "cell_type": "code",
   "execution_count": 19,
   "metadata": {},
   "outputs": [
    {
     "data": {
      "text/plain": [
       "0.0010478186049913405"
      ]
     },
     "execution_count": 19,
     "metadata": {},
     "output_type": "execute_result"
    }
   ],
   "source": [
    "r_value**2"
   ]
  },
  {
   "cell_type": "code",
   "execution_count": 22,
   "metadata": {},
   "outputs": [],
   "source": [
    "r2 = []\n",
    "for i in range(10000):\n",
    "    call_padded = np.append(call_mic1, [0]*i)[i:]\n",
    "    slope, intercept, r_value, p_value, std_err = linregress(call_padded, call_mic0)\n",
    "    r2.append(r_value**2)"
   ]
  },
  {
   "cell_type": "code",
   "execution_count": 23,
   "metadata": {},
   "outputs": [
    {
     "data": {
      "text/plain": [
       "[<matplotlib.lines.Line2D at 0x7f9a2739f550>]"
      ]
     },
     "execution_count": 23,
     "metadata": {},
     "output_type": "execute_result"
    }
   ],
   "source": [
    "plt.plot(r2)"
   ]
  },
  {
   "cell_type": "code",
   "execution_count": 40,
   "metadata": {},
   "outputs": [
    {
     "name": "stdout",
     "output_type": "stream",
     "text": [
      "Offset:  -157  steps,  -0.000628 secs\n"
     ]
    }
   ],
   "source": [
    "# from scipy.signal import argrelmax\n",
    "\n",
    "# r2 = []\n",
    "# window = width*2\n",
    "# offset = window\n",
    "# call_mic1_in = call_mic1[offset:-window*2]\n",
    "# for i in range(-window, window,1):\n",
    "#     call_padded = np.append(call_mic0, [0]*i)[i:]\n",
    "#     call_padded = call_mic0[offset+i:+i-window*2]\n",
    "#     slope, intercept, r_value, p_value, std_err = linregress(call_padded, call_mic1_in)\n",
    "#     r2.append(r_value**2)\n",
    "\n",
    "# r2 = np.array(r2)\n",
    "\n",
    "# idxes = argrelmax(r2, axis=0)\n",
    "# plt.scatter(idxes,r2[idxes],c='blue')\n",
    "# idx = np.argmax(r2)\n",
    "# plt.scatter(idx,r2[idx],c='red')\n",
    "# print (\"Offset: \", -window+idx, \" steps, \", (-window+idx)*0.000004, \"secs\" )\n",
    "\n",
    "# plt.plot(r2)\n",
    "# plt.title(\"Offset: \"+ str(-window+idx)+ \" steps, \"+ str((-window+idx)*0.000004)+ \"secs\" )\n",
    "# plt.show()"
   ]
  },
  {
   "cell_type": "code",
   "execution_count": 13,
   "metadata": {},
   "outputs": [
    {
     "name": "stdout",
     "output_type": "stream",
     "text": [
      "[520 780 520 780]\n"
     ]
    },
    {
     "ename": "NameError",
     "evalue": "name 'call_mic0_bp' is not defined",
     "output_type": "error",
     "traceback": [
      "\u001b[0;31m---------------------------------------------------------------------------\u001b[0m",
      "\u001b[0;31mNameError\u001b[0m                                 Traceback (most recent call last)",
      "\u001b[0;32m<ipython-input-13-e3af3bee833d>\u001b[0m in \u001b[0;36m<module>\u001b[0;34m\u001b[0m\n\u001b[1;32m      3\u001b[0m \u001b[0mprint\u001b[0m \u001b[0;34m(\u001b[0m\u001b[0mlengths\u001b[0m\u001b[0;34m)\u001b[0m\u001b[0;34m\u001b[0m\u001b[0;34m\u001b[0m\u001b[0m\n\u001b[1;32m      4\u001b[0m \u001b[0;31m#mics = [call_mic0, call_mic1, call_mic2, call_mic3]\u001b[0m\u001b[0;34m\u001b[0m\u001b[0;34m\u001b[0m\u001b[0;34m\u001b[0m\u001b[0m\n\u001b[0;32m----> 5\u001b[0;31m \u001b[0mmics\u001b[0m \u001b[0;34m=\u001b[0m \u001b[0;34m[\u001b[0m\u001b[0mcall_mic0_bp\u001b[0m\u001b[0;34m,\u001b[0m \u001b[0mcall_mic1_bp\u001b[0m\u001b[0;34m,\u001b[0m \u001b[0mcall_mic2_bp\u001b[0m\u001b[0;34m,\u001b[0m \u001b[0mcall_mic3_bp\u001b[0m\u001b[0;34m]\u001b[0m\u001b[0;34m\u001b[0m\u001b[0;34m\u001b[0m\u001b[0m\n\u001b[0m\u001b[1;32m      6\u001b[0m \u001b[0;34m\u001b[0m\u001b[0m\n\u001b[1;32m      7\u001b[0m \u001b[0mr2_array\u001b[0m \u001b[0;34m=\u001b[0m\u001b[0;34m[\u001b[0m\u001b[0;34m]\u001b[0m\u001b[0;34m\u001b[0m\u001b[0;34m\u001b[0m\u001b[0m\n",
      "\u001b[0;31mNameError\u001b[0m: name 'call_mic0_bp' is not defined"
     ]
    }
   ],
   "source": [
    "\n",
    "# r2_array =[]\n",
    "# for k in range(len(lengths)):\n",
    "#     ax=plt.subplot(2,2,k+1)\n",
    "#     r2 = []\n",
    "#     window = lengths[k]*2\n",
    "    \n",
    "#     mic1 = mics[(k+1)%4][offset:-window*2].copy()\n",
    "#     print (\"mic1: \", mic1.shape)\n",
    "#     if False:\n",
    "#         mic1[:15000]=0\n",
    "#         #mic1[18500:]=0\n",
    "#         #pass\n",
    "    \n",
    "#     for i in range(-window, window,1):\n",
    "#         #call_padded = np.append(mics[k], [0]*i)[i:]\n",
    "#         mic0 = mics[k][offset+i:+i-window*2].copy()\n",
    "#         slope, intercept, r_value, p_value, std_err = linregress(mic0, mic1)\n",
    "#         r2.append(r_value**2)\n",
    "\n",
    "#     r2 = np.array(r2)\n",
    "#     r2_array.append(r2)\n",
    "#     idxes = argrelmax(r2, axis=0)\n",
    "#     plt.scatter(idxes,r2[idxes],c='blue')\n",
    "#     idx = np.argmax(r2)\n",
    "#     plt.scatter(idx,r2[idx],c='red')\n",
    "#     print (\"Offset: \", -window+idx, \" steps, \", (-window+idx)*0.000004, \"secs\" )\n",
    "\n",
    "#     plt.plot(r2)\n",
    "#     plt.ylabel(\"mic\"+str(k)+\" and mic\"+str((k+1)%4)+ \n",
    "#                \"\\nOffset: \"+ str(-window+idx)+ \" steps, \"+ \n",
    "#                str(round((-window+idx)*0.000004,6))+ \"secs\",fontsize=15 )\n",
    "# plt.show()"
   ]
  },
  {
   "cell_type": "code",
   "execution_count": 53,
   "metadata": {},
   "outputs": [],
   "source": []
  },
  {
   "cell_type": "code",
   "execution_count": 55,
   "metadata": {},
   "outputs": [
    {
     "name": "stdout",
     "output_type": "stream",
     "text": [
      "[520 780 520 780]\n",
      "4\n",
      "mic1:  (2496360,)\n"
     ]
    },
    {
     "ename": "KeyboardInterrupt",
     "evalue": "",
     "output_type": "error",
     "traceback": [
      "\u001b[0;31m---------------------------------------------------------------------------\u001b[0m",
      "\u001b[0;31mKeyboardInterrupt\u001b[0m                         Traceback (most recent call last)",
      "\u001b[0;32m<ipython-input-55-e4edf7bc0443>\u001b[0m in \u001b[0;36m<module>\u001b[0;34m\u001b[0m\n\u001b[1;32m     17\u001b[0m \u001b[0;34m\u001b[0m\u001b[0m\n\u001b[1;32m     18\u001b[0m \u001b[0;31m#\u001b[0m\u001b[0;34m\u001b[0m\u001b[0;34m\u001b[0m\u001b[0;34m\u001b[0m\u001b[0m\n\u001b[0;32m---> 19\u001b[0;31m     \u001b[0mr2_array_fit\u001b[0m \u001b[0;34m=\u001b[0m \u001b[0mfit_polynomial\u001b[0m\u001b[0;34m(\u001b[0m\u001b[0mlengths\u001b[0m\u001b[0;34m,\u001b[0m \u001b[0mmics\u001b[0m\u001b[0;34m)\u001b[0m\u001b[0;34m\u001b[0m\u001b[0;34m\u001b[0m\u001b[0m\n\u001b[0m\u001b[1;32m     20\u001b[0m     \u001b[0mprint\u001b[0m \u001b[0;34m(\u001b[0m\u001b[0;34m\"len r2 array: \"\u001b[0m\u001b[0;34m,\u001b[0m \u001b[0mlen\u001b[0m\u001b[0;34m(\u001b[0m\u001b[0mr2_array_fit\u001b[0m\u001b[0;34m)\u001b[0m\u001b[0;34m)\u001b[0m\u001b[0;34m\u001b[0m\u001b[0;34m\u001b[0m\u001b[0m\n",
      "\u001b[0;32m<ipython-input-52-ec7ea86529f3>\u001b[0m in \u001b[0;36mfit_polynomial\u001b[0;34m(lengths, mics)\u001b[0m\n\u001b[1;32m     75\u001b[0m             \u001b[0;31m#call_padded = np.append(mics[k], [0]*i)[i:]\u001b[0m\u001b[0;34m\u001b[0m\u001b[0;34m\u001b[0m\u001b[0;34m\u001b[0m\u001b[0m\n\u001b[1;32m     76\u001b[0m             \u001b[0mmic0\u001b[0m \u001b[0;34m=\u001b[0m \u001b[0mmics\u001b[0m\u001b[0;34m[\u001b[0m\u001b[0mk\u001b[0m\u001b[0;34m]\u001b[0m\u001b[0;34m[\u001b[0m\u001b[0moffset\u001b[0m\u001b[0;34m+\u001b[0m\u001b[0mi\u001b[0m\u001b[0;34m:\u001b[0m\u001b[0;34m+\u001b[0m\u001b[0mi\u001b[0m\u001b[0;34m-\u001b[0m\u001b[0mwindow\u001b[0m\u001b[0;34m*\u001b[0m\u001b[0;36m2\u001b[0m\u001b[0;34m]\u001b[0m\u001b[0;34m.\u001b[0m\u001b[0mcopy\u001b[0m\u001b[0;34m(\u001b[0m\u001b[0;34m)\u001b[0m\u001b[0;34m\u001b[0m\u001b[0;34m\u001b[0m\u001b[0m\n\u001b[0;32m---> 77\u001b[0;31m             \u001b[0mslope\u001b[0m\u001b[0;34m,\u001b[0m \u001b[0mintercept\u001b[0m\u001b[0;34m,\u001b[0m \u001b[0mr_value\u001b[0m\u001b[0;34m,\u001b[0m \u001b[0mp_value\u001b[0m\u001b[0;34m,\u001b[0m \u001b[0mstd_err\u001b[0m \u001b[0;34m=\u001b[0m \u001b[0mlinregress\u001b[0m\u001b[0;34m(\u001b[0m\u001b[0mmic0\u001b[0m\u001b[0;34m,\u001b[0m \u001b[0mmic1\u001b[0m\u001b[0;34m)\u001b[0m\u001b[0;34m\u001b[0m\u001b[0;34m\u001b[0m\u001b[0m\n\u001b[0m\u001b[1;32m     78\u001b[0m             \u001b[0mr2\u001b[0m\u001b[0;34m.\u001b[0m\u001b[0mappend\u001b[0m\u001b[0;34m(\u001b[0m\u001b[0mr_value\u001b[0m\u001b[0;34m**\u001b[0m\u001b[0;36m2\u001b[0m\u001b[0;34m)\u001b[0m\u001b[0;34m\u001b[0m\u001b[0;34m\u001b[0m\u001b[0m\n\u001b[1;32m     79\u001b[0m \u001b[0;34m\u001b[0m\u001b[0m\n",
      "\u001b[0;32m~/anaconda3/lib/python3.7/site-packages/scipy/stats/_stats_mstats_common.py\u001b[0m in \u001b[0;36mlinregress\u001b[0;34m(x, y)\u001b[0m\n\u001b[1;32m    114\u001b[0m \u001b[0;34m\u001b[0m\u001b[0m\n\u001b[1;32m    115\u001b[0m     \u001b[0;31m# average sum of squares:\u001b[0m\u001b[0;34m\u001b[0m\u001b[0;34m\u001b[0m\u001b[0;34m\u001b[0m\u001b[0m\n\u001b[0;32m--> 116\u001b[0;31m     \u001b[0mssxm\u001b[0m\u001b[0;34m,\u001b[0m \u001b[0mssxym\u001b[0m\u001b[0;34m,\u001b[0m \u001b[0mssyxm\u001b[0m\u001b[0;34m,\u001b[0m \u001b[0mssym\u001b[0m \u001b[0;34m=\u001b[0m \u001b[0mnp\u001b[0m\u001b[0;34m.\u001b[0m\u001b[0mcov\u001b[0m\u001b[0;34m(\u001b[0m\u001b[0mx\u001b[0m\u001b[0;34m,\u001b[0m \u001b[0my\u001b[0m\u001b[0;34m,\u001b[0m \u001b[0mbias\u001b[0m\u001b[0;34m=\u001b[0m\u001b[0;36m1\u001b[0m\u001b[0;34m)\u001b[0m\u001b[0;34m.\u001b[0m\u001b[0mflat\u001b[0m\u001b[0;34m\u001b[0m\u001b[0;34m\u001b[0m\u001b[0m\n\u001b[0m\u001b[1;32m    117\u001b[0m     \u001b[0mr_num\u001b[0m \u001b[0;34m=\u001b[0m \u001b[0mssxym\u001b[0m\u001b[0;34m\u001b[0m\u001b[0;34m\u001b[0m\u001b[0m\n\u001b[1;32m    118\u001b[0m     \u001b[0mr_den\u001b[0m \u001b[0;34m=\u001b[0m \u001b[0mnp\u001b[0m\u001b[0;34m.\u001b[0m\u001b[0msqrt\u001b[0m\u001b[0;34m(\u001b[0m\u001b[0mssxm\u001b[0m \u001b[0;34m*\u001b[0m \u001b[0mssym\u001b[0m\u001b[0;34m)\u001b[0m\u001b[0;34m\u001b[0m\u001b[0;34m\u001b[0m\u001b[0m\n",
      "\u001b[0;32m~/anaconda3/lib/python3.7/site-packages/numpy/lib/function_base.py\u001b[0m in \u001b[0;36mcov\u001b[0;34m(m, y, rowvar, bias, ddof, fweights, aweights)\u001b[0m\n\u001b[1;32m   2384\u001b[0m         \u001b[0;32mif\u001b[0m \u001b[0;32mnot\u001b[0m \u001b[0mrowvar\u001b[0m \u001b[0;32mand\u001b[0m \u001b[0my\u001b[0m\u001b[0;34m.\u001b[0m\u001b[0mshape\u001b[0m\u001b[0;34m[\u001b[0m\u001b[0;36m0\u001b[0m\u001b[0;34m]\u001b[0m \u001b[0;34m!=\u001b[0m \u001b[0;36m1\u001b[0m\u001b[0;34m:\u001b[0m\u001b[0;34m\u001b[0m\u001b[0;34m\u001b[0m\u001b[0m\n\u001b[1;32m   2385\u001b[0m             \u001b[0my\u001b[0m \u001b[0;34m=\u001b[0m \u001b[0my\u001b[0m\u001b[0;34m.\u001b[0m\u001b[0mT\u001b[0m\u001b[0;34m\u001b[0m\u001b[0;34m\u001b[0m\u001b[0m\n\u001b[0;32m-> 2386\u001b[0;31m         \u001b[0mX\u001b[0m \u001b[0;34m=\u001b[0m \u001b[0mnp\u001b[0m\u001b[0;34m.\u001b[0m\u001b[0mconcatenate\u001b[0m\u001b[0;34m(\u001b[0m\u001b[0;34m(\u001b[0m\u001b[0mX\u001b[0m\u001b[0;34m,\u001b[0m \u001b[0my\u001b[0m\u001b[0;34m)\u001b[0m\u001b[0;34m,\u001b[0m \u001b[0maxis\u001b[0m\u001b[0;34m=\u001b[0m\u001b[0;36m0\u001b[0m\u001b[0;34m)\u001b[0m\u001b[0;34m\u001b[0m\u001b[0;34m\u001b[0m\u001b[0m\n\u001b[0m\u001b[1;32m   2387\u001b[0m \u001b[0;34m\u001b[0m\u001b[0m\n\u001b[1;32m   2388\u001b[0m     \u001b[0;32mif\u001b[0m \u001b[0mddof\u001b[0m \u001b[0;32mis\u001b[0m \u001b[0;32mNone\u001b[0m\u001b[0;34m:\u001b[0m\u001b[0;34m\u001b[0m\u001b[0;34m\u001b[0m\u001b[0m\n",
      "\u001b[0;31mKeyboardInterrupt\u001b[0m: "
     ]
    }
   ],
   "source": [
    "# COMPUTE SHIFT CORRELATION AND FIT POLYNOMIAL\n",
    "\n",
    "filenames = ['/media/cat/4TBSSD/Downloads/2020-07-10_20_05_40.673203_audio_A.npy',\n",
    "             '/media/cat/4TBSSD/Downloads/2020-07-10_20_06_22.532042_audio_B.npy',\n",
    "             '/media/cat/4TBSSD/Downloads/2020-07-10_20_07_19.409833_audio_C.npy',\n",
    "             '/media/cat/4TBSSD/Downloads/2020-07-10_20_08_02.677607_audio_D.npy',\n",
    "             '/media/cat/4TBSSD/Downloads/2020-07-10_20_09_07.645162_audio_E.npy'\n",
    "            ]\n",
    "\n",
    "\n",
    "# \n",
    "width = 291\n",
    "length = 438\n",
    "lengths= [width, length, width, length]\n",
    "\n",
    "lengths = np.array([260,390,260,390])*2\n",
    "offset = np.max(lengths)*2\n",
    "print (lengths)\n",
    "\n",
    "for fname in filenames:\n",
    "    mics = read_filter_data(fname)\n",
    "\n",
    "    print (len(mics))\n",
    "    #mics = [call_mic0_bp, call_mic1_bp, call_mic2_bp, call_mic3_bp]\n",
    "\n",
    "#\n",
    "    r2_array_fit = fit_polynomial(lengths, mics)\n",
    "    print (\"len r2 array: \", len(r2_array_fit))\n"
   ]
  },
  {
   "cell_type": "code",
   "execution_count": 23,
   "metadata": {},
   "outputs": [
    {
     "name": "stdout",
     "output_type": "stream",
     "text": [
      "(3120,)\n",
      "(2080, 3120)\n",
      "0 (2080,)\n",
      "1 (3120,)\n",
      "2 (2080,)\n",
      "3 (3120,)\n",
      "(32,)\n",
      "(48,)\n",
      "3.9629986\n",
      "(array([1126]), array([1419]))\n",
      "(array([1419]), array([1126]))\n"
     ]
    }
   ],
   "source": [
    "# MAKE 2D SURFACE FROM 1D ARRAYS\n",
    "print (r2_array_fit[1].shape)\n",
    "\n",
    "max_loc = make_3D_surface(lengths, r2_array_fit)\n",
    "print (max_loc)\n"
   ]
  },
  {
   "cell_type": "code",
   "execution_count": 176,
   "metadata": {},
   "outputs": [
    {
     "name": "stdout",
     "output_type": "stream",
     "text": [
      "2.6535523\n",
      "(array([923]), array([293]))\n"
     ]
    }
   ],
   "source": [
    "idx = np.max(surface)\n",
    "print (idx)\n",
    "\n",
    "idx3 = np.where(surface==idx)\n",
    "print (idx3)\n",
    "\n",
    "plt.imshow(surface,cmap='viridis')\n",
    "plt.suptitle(fname,fontsize=20)\n",
    "plt.scatter(idx3[1],idx3[0],s=100,c='red')\n",
    "\n",
    "plt.show()\n"
   ]
  },
  {
   "cell_type": "code",
   "execution_count": 49,
   "metadata": {},
   "outputs": [
    {
     "name": "stdout",
     "output_type": "stream",
     "text": [
      "(3120, 2080) (3120, 2080) (2080, 3120)\n"
     ]
    }
   ],
   "source": [
    "from mpl_toolkits.mplot3d import Axes3D  # noqa: F401 unused import\n",
    "\n",
    "import matplotlib.pyplot as plt\n",
    "from matplotlib import cm\n",
    "from matplotlib.ticker import LinearLocator, FormatStrFormatter\n",
    "import numpy as np\n",
    "\n",
    "\n",
    "fig = plt.figure()\n",
    "ax = fig.gca(projection='3d')\n",
    "\n",
    "# Make data.\n",
    "X = np.arange(surface.shape[0])/6.51\n",
    "Y = np.arange(surface.shape[1])/6.51\n",
    "X, Y = np.meshgrid(X, Y)\n",
    "\n",
    "print (X.shape, Y.shape, surface.shape)\n",
    "# Plot the surface.\n",
    "surf = ax.plot_surface(X, Y, surface.T, cmap=cm.coolwarm,\n",
    "                       linewidth=0, antialiased=False)\n",
    "\n",
    "# Customize the z axis.\n",
    "ax.set_zlim(-1.01, 1.01)\n",
    "ax.zaxis.set_major_locator(LinearLocator(10))\n",
    "ax.zaxis.set_major_formatter(FormatStrFormatter('%.02f'))\n",
    "\n",
    "\n",
    "# Add a color bar which maps values to colors.\n",
    "fig.colorbar(surf, shrink=0.5, aspect=5)\n",
    "\n",
    "plt.show()\n"
   ]
  },
  {
   "cell_type": "code",
   "execution_count": 45,
   "metadata": {},
   "outputs": [
    {
     "data": {
      "text/plain": [
       "[<matplotlib.lines.Line2D at 0x7f9a26eb3c50>]"
      ]
     },
     "execution_count": 45,
     "metadata": {},
     "output_type": "execute_result"
    }
   ],
   "source": [
    "plt.plot(r2)"
   ]
  },
  {
   "cell_type": "code",
   "execution_count": 24,
   "metadata": {},
   "outputs": [],
   "source": [
    "# 1 timestep = 0.000004 usec; = 0.001372 metres\n",
    "# 40cm x 60cm box = 260timesteps x 390\n",
    "width = 291\n",
    "length = 438"
   ]
  },
  {
   "cell_type": "markdown",
   "metadata": {},
   "source": [
    "# bandpass filter"
   ]
  },
  {
   "cell_type": "code",
   "execution_count": 14,
   "metadata": {},
   "outputs": [],
   "source": [
    "from scipy.signal import butter, lfilter\n",
    "\n",
    "def butter_bandpass(lowcut, highcut, fs, order=5):\n",
    "    nyq = 0.5 * fs\n",
    "    low = lowcut / nyq\n",
    "    high = highcut / nyq\n",
    "    b, a = butter(order, [low, high], btype='band')\n",
    "    return b, a\n",
    "\n",
    "\n",
    "def butter_bandpass_filter(data, lowcut, highcut, fs, order=5):\n",
    "    b, a = butter_bandpass(lowcut, highcut, fs, order=order)\n",
    "    y = lfilter(b, a, data)\n",
    "    return y\n",
    "\n",
    "start_fs = 6500\n",
    "end_fs = 7500\n",
    "mic0_audio_bp = butter_bandpass_filter(mic0_audio, start_fs, end_fs, fs)  # YOU CAN AUTODETECT THIS\n",
    "mic1_audio_bp = butter_bandpass_filter(mic1_audio, start_fs, end_fs, fs)\n",
    "mic2_audio_bp = butter_bandpass_filter(mic2_audio, start_fs, end_fs, fs)\n",
    "mic3_audio_bp = butter_bandpass_filter(mic3_audio, start_fs, end_fs, fs)"
   ]
  },
  {
   "cell_type": "code",
   "execution_count": 15,
   "metadata": {},
   "outputs": [],
   "source": [
    "start_fs = 6500\n",
    "end_fs = 7500\n",
    "mic0_audio_bp = butter_bandpass_filter(mic0_audio, start_fs, end_fs, fs)  # YOU CAN AUTODETECT THIS\n",
    "mic1_audio_bp = butter_bandpass_filter(mic1_audio, start_fs, end_fs, fs)\n",
    "mic2_audio_bp = butter_bandpass_filter(mic2_audio, start_fs, end_fs, fs)\n",
    "mic3_audio_bp = butter_bandpass_filter(mic3_audio, start_fs, end_fs, fs)"
   ]
  },
  {
   "cell_type": "code",
   "execution_count": 16,
   "metadata": {},
   "outputs": [],
   "source": [
    "call_mic0_bp = mic0_audio_bp[int(call_onset*fs):int(call_offset*fs)]\n",
    "call_mic1_bp = mic1_audio_bp[int(call_onset*fs):int(call_offset*fs)]\n",
    "call_mic2_bp = mic2_audio_bp[int(call_onset*fs):int(call_offset*fs)]\n",
    "call_mic3_bp = mic3_audio_bp[int(call_onset*fs):int(call_offset*fs)]"
   ]
  },
  {
   "cell_type": "code",
   "execution_count": 10,
   "metadata": {},
   "outputs": [
    {
     "data": {
      "text/plain": [
       "Text(0.5, 1.0, 'mic1')"
      ]
     },
     "execution_count": 10,
     "metadata": {},
     "output_type": "execute_result"
    }
   ],
   "source": [
    "plt.figure(figsize=(20,3))\n",
    "ax=plt.subplot(1,1,1)\n",
    "plt.plot(call_mic0_bp, 'k', markersize=1)\n",
    "#plt.title('mic0')\n",
    "\n",
    "#plt.figure(figsize=(20,3))\n",
    "#ax=plt.subplot(2,1,2)\n",
    "plt.plot(call_mic1_bp, 'r', markersize=1)\n",
    "plt.title('mic1')"
   ]
  },
  {
   "cell_type": "code",
   "execution_count": 28,
   "metadata": {},
   "outputs": [],
   "source": [
    "plt.plot(call_mic0_bp, call_mic1_bp, '.k', markersize=1)\n",
    "x = np.linspace(plt.xlim()[0], plt.xlim()[1])\n",
    "plt.plot(x,x, 'k--')\n",
    "\n",
    "#axis('square')\n",
    "\n",
    "sns.despine()"
   ]
  },
  {
   "cell_type": "code",
   "execution_count": 31,
   "metadata": {},
   "outputs": [],
   "source": [
    "import scipy\n",
    "r2_bp = []\n",
    "for i in range(10000):\n",
    "    call_padded = np.append(call_mic1_bp, [0]*i)[i:]\n",
    "    slope, intercept, r_value, p_value, std_err = scipy.stats.linregress(call_padded, call_mic0_bp)\n",
    "    r2_bp.append(r_value**2)"
   ]
  },
  {
   "cell_type": "code",
   "execution_count": 34,
   "metadata": {},
   "outputs": [],
   "source": [
    "plt.plot(r2_bp)\n",
    "plt.show()"
   ]
  },
  {
   "cell_type": "code",
   "execution_count": null,
   "metadata": {},
   "outputs": [],
   "source": []
  },
  {
   "cell_type": "code",
   "execution_count": 36,
   "metadata": {},
   "outputs": [],
   "source": [
    "r2_bp = []\n",
    "for i in range(10000):\n",
    "    call_padded = np.append(call_mic0_bp, [0]*i)[i:]\n",
    "    slope, intercept, r_value, p_value, std_err = scipy.stats.linregress(call_padded, call_mic1_bp)\n",
    "    r2_bp.append(r_value**2)"
   ]
  },
  {
   "cell_type": "code",
   "execution_count": 37,
   "metadata": {},
   "outputs": [],
   "source": [
    "plt.plot(r2_bp)\n",
    "plt.show()"
   ]
  },
  {
   "cell_type": "code",
   "execution_count": 101,
   "metadata": {},
   "outputs": [
    {
     "data": {
      "text/plain": [
       "83"
      ]
     },
     "execution_count": 101,
     "metadata": {},
     "output_type": "execute_result"
    }
   ],
   "source": [
    "np.where(r2_bp == np.max(r2_bp))[0][0]"
   ]
  },
  {
   "cell_type": "code",
   "execution_count": 103,
   "metadata": {},
   "outputs": [
    {
     "data": {
      "text/plain": [
       "0.332"
      ]
     },
     "execution_count": 103,
     "metadata": {},
     "output_type": "execute_result"
    }
   ],
   "source": [
    "83/fs*1000"
   ]
  },
  {
   "cell_type": "code",
   "execution_count": null,
   "metadata": {},
   "outputs": [],
   "source": []
  },
  {
   "cell_type": "code",
   "execution_count": null,
   "metadata": {},
   "outputs": [],
   "source": []
  },
  {
   "cell_type": "markdown",
   "metadata": {},
   "source": [
    "# fft"
   ]
  },
  {
   "cell_type": "code",
   "execution_count": 83,
   "metadata": {},
   "outputs": [],
   "source": [
    "# np.abs(np.fft.fftshift(_fft))"
   ]
  },
  {
   "cell_type": "code",
   "execution_count": 81,
   "metadata": {},
   "outputs": [],
   "source": [
    "_fft_call_mic0 = np.fft.fft(call_mic0)\n",
    "_fft_call_mic1 = np.fft.fft(call_mic1)"
   ]
  },
  {
   "cell_type": "code",
   "execution_count": 82,
   "metadata": {},
   "outputs": [
    {
     "name": "stderr",
     "output_type": "stream",
     "text": [
      "/Users/ralphie787/anaconda3/lib/python3.7/site-packages/numpy/core/numeric.py:538: ComplexWarning: Casting complex values to real discards the imaginary part\n",
      "  return array(a, dtype, copy=False, order=order)\n"
     ]
    },
    {
     "data": {
      "text/plain": [
       "[<matplotlib.lines.Line2D at 0x1a646fa8d0>]"
      ]
     },
     "execution_count": 82,
     "metadata": {},
     "output_type": "execute_result"
    },
    {
     "data": {
      "image/png": "[encoded data removed]",
      "text/plain": [
       "<Figure size 432x288 with 1 Axes>"
      ]
     },
     "metadata": {},
     "output_type": "display_data"
    },
    {
     "data": {
      "image/png": "[encoded data removed]",
      "text/plain": [
       "<Figure size 432x288 with 1 Axes>"
      ]
     },
     "metadata": {},
     "output_type": "display_data"
    }
   ],
   "source": [
    "figure()\n",
    "plot(_fft_call_mic0)\n",
    "\n",
    "figure()\n",
    "plot(_fft_call_mic1)"
   ]
  },
  {
   "cell_type": "code",
   "execution_count": 84,
   "metadata": {},
   "outputs": [
    {
     "data": {
      "image/png": "[encoded data removed]",
      "text/plain": [
       "<Figure size 432x288 with 1 Axes>"
      ]
     },
     "metadata": {},
     "output_type": "display_data"
    }
   ],
   "source": [
    "plot(_fft_call_mic0, _fft_call_mic1, '.k', markersize=1)\n",
    "x = np.linspace(xlim()[0], xlim()[1])\n",
    "plot(x,x, 'k--')\n",
    "axis('square')\n",
    "\n",
    "sns.despine()"
   ]
  },
  {
   "cell_type": "code",
   "execution_count": 104,
   "metadata": {},
   "outputs": [],
   "source": [
    "fft_r2 = []\n",
    "for i in range(10000):\n",
    "    call_padded = np.append(call_mic1, [0]*i)[i:]\n",
    "    working_fft_call_mic1 = np.fft.fft(call_padded)\n",
    "    slope, intercept, r_value, p_value, std_err = linregress(call_padded, np.fft.fft(call_mic0))\n",
    "    fft_r2.append(r_value**2)"
   ]
  },
  {
   "cell_type": "code",
   "execution_count": 105,
   "metadata": {},
   "outputs": [
    {
     "data": {
      "text/plain": [
       "[<matplotlib.lines.Line2D at 0x1a6859c390>]"
      ]
     },
     "execution_count": 105,
     "metadata": {},
     "output_type": "execute_result"
    },
    {
     "data": {
      "image/png": "[encoded data removed]",
      "text/plain": [
       "<Figure size 432x288 with 1 Axes>"
      ]
     },
     "metadata": {},
     "output_type": "display_data"
    }
   ],
   "source": [
    "plot(fft_r2)"
   ]
  },
  {
   "cell_type": "code",
   "execution_count": null,
   "metadata": {},
   "outputs": [],
   "source": []
  },
  {
   "cell_type": "code",
   "execution_count": 107,
   "metadata": {},
   "outputs": [],
   "source": [
    "fft_r2 = []\n",
    "for i in range(10000):\n",
    "    call_padded = np.append(call_mic0, [0]*i)[i:]\n",
    "    working_fft_call_mic0 = np.fft.fft(call_padded)\n",
    "    slope, intercept, r_value, p_value, std_err = linregress(call_padded, np.fft.fft(call_mic1))\n",
    "    fft_r2.append(r_value**2)"
   ]
  },
  {
   "cell_type": "code",
   "execution_count": 108,
   "metadata": {},
   "outputs": [
    {
     "data": {
      "text/plain": [
       "[<matplotlib.lines.Line2D at 0x1a68462c50>]"
      ]
     },
     "execution_count": 108,
     "metadata": {},
     "output_type": "execute_result"
    },
    {
     "data": {
      "image/png": "[encoded data removed]",
      "text/plain": [
       "<Figure size 432x288 with 1 Axes>"
      ]
     },
     "metadata": {},
     "output_type": "display_data"
    }
   ],
   "source": [
    "plot(fft_r2)"
   ]
  },
  {
   "cell_type": "code",
   "execution_count": null,
   "metadata": {},
   "outputs": [],
   "source": []
  },
  {
   "cell_type": "code",
   "execution_count": null,
   "metadata": {},
   "outputs": [],
   "source": []
  },
  {
   "cell_type": "markdown",
   "metadata": {},
   "source": [
    "# fft bandpass "
   ]
  },
  {
   "cell_type": "code",
   "execution_count": 109,
   "metadata": {},
   "outputs": [],
   "source": [
    "fft_r2 = []\n",
    "for i in range(10000):\n",
    "    call_padded = np.append(call_mic1_bp, [0]*i)[i:]\n",
    "    working_fft_call_mic1 = np.fft.fft(call_padded)\n",
    "    slope, intercept, r_value, p_value, std_err = linregress(call_padded, np.fft.fft(call_mic0_bp))\n",
    "    fft_r2.append(r_value**2)"
   ]
  },
  {
   "cell_type": "code",
   "execution_count": 110,
   "metadata": {},
   "outputs": [
    {
     "data": {
      "text/plain": [
       "[<matplotlib.lines.Line2D at 0x1a68901208>]"
      ]
     },
     "execution_count": 110,
     "metadata": {},
     "output_type": "execute_result"
    },
    {
     "data": {
      "image/png": "[encoded data removed]",
      "text/plain": [
       "<Figure size 432x288 with 1 Axes>"
      ]
     },
     "metadata": {},
     "output_type": "display_data"
    }
   ],
   "source": [
    "plot(fft_r2)"
   ]
  },
  {
   "cell_type": "code",
   "execution_count": null,
   "metadata": {},
   "outputs": [],
   "source": []
  },
  {
   "cell_type": "code",
   "execution_count": 111,
   "metadata": {},
   "outputs": [],
   "source": [
    "fft_r2 = []\n",
    "for i in range(10000):\n",
    "    call_padded = np.append(call_mic0_bp, [0]*i)[i:]\n",
    "    working_fft_call_mic0 = np.fft.fft(call_padded)\n",
    "    slope, intercept, r_value, p_value, std_err = linregress(call_padded, np.fft.fft(call_mic1_bp))\n",
    "    fft_r2.append(r_value**2)"
   ]
  },
  {
   "cell_type": "code",
   "execution_count": 112,
   "metadata": {},
   "outputs": [
    {
     "data": {
      "text/plain": [
       "[<matplotlib.lines.Line2D at 0x1a68add0f0>]"
      ]
     },
     "execution_count": 112,
     "metadata": {},
     "output_type": "execute_result"
    },
    {
     "data": {
      "image/png": "[encoded data removed]",
      "text/plain": [
       "<Figure size 432x288 with 1 Axes>"
      ]
     },
     "metadata": {},
     "output_type": "display_data"
    }
   ],
   "source": [
    "plot(fft_r2)"
   ]
  },
  {
   "cell_type": "code",
   "execution_count": null,
   "metadata": {},
   "outputs": [],
   "source": []
  }
 ],
 "metadata": {
  "kernelspec": {
   "display_name": "Python 3",
   "language": "python",
   "name": "python3"
  },
  "language_info": {
   "codemirror_mode": {
    "name": "ipython",
    "version": 3
   },
   "file_extension": ".py",
   "mimetype": "text/x-python",
   "name": "python",
   "nbconvert_exporter": "python",
   "pygments_lexer": "ipython3",
   "version": "3.7.6"
  }
 },
 "nbformat": 4,
 "nbformat_minor": 2
}
