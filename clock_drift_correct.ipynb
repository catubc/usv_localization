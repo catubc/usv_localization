{
 "cells": [
  {
   "cell_type": "code",
   "execution_count": 1,
   "metadata": {},
   "outputs": [
    {
     "data": {
      "application/javascript": [
       "IPython.notebook.set_autosave_interval(180000)"
      ]
     },
     "metadata": {},
     "output_type": "display_data"
    },
    {
     "name": "stdout",
     "output_type": "stream",
     "text": [
      "Autosaving every 180 seconds\n"
     ]
    },
    {
     "data": {
      "text/html": [
       "<style>.container { width:100% !important; }</style>"
      ],
      "text/plain": [
       "<IPython.core.display.HTML object>"
      ]
     },
     "metadata": {},
     "output_type": "display_data"
    }
   ],
   "source": [
    "import numpy as np\n",
    "import pandas as pd\n",
    "from scipy.io import wavfile\n",
    "import joblib\n",
    "import seaborn as sns\n",
    "%matplotlib tk\n",
    "#%matplotlib qt\n",
    "%autosave 180\n",
    "import matplotlib.pyplot as plt\n",
    "from IPython.core.display import display, HTML\n",
    "display(HTML(\"<style>.container { width:100% !important; }</style>\"))\n",
    "\n",
    "from pylab import specgram\n",
    "from scipy.signal import argrelmax\n",
    "from scipy.stats import linregress, pearsonr\n",
    "import os\n",
    "\n",
    "#%pylab inline\n",
    "import cv2\n"
   ]
  },
  {
   "cell_type": "code",
   "execution_count": 2,
   "metadata": {},
   "outputs": [],
   "source": [
    "\n",
    "def read_filter_data(fname, call_onset, call_offset, filter_data, plotting):\n",
    "\n",
    "    # load data\n",
    "    print (\"Loading: \", fname)\n",
    "    data = np.load(fname)\n",
    "    mic0_audio = data[0]\n",
    "    mic1_audio = data[1]\n",
    "    mic2_audio = data[2]\n",
    "    mic3_audio = data[3]\n",
    "    \n",
    "    # clip data \n",
    "    #print (\"Clipping :\", call_onset, call_offset)\n",
    "    fs = 250000\n",
    "    call_mic0 = mic0_audio[int(call_onset*fs):int(call_offset*fs)]\n",
    "    call_mic1 = mic1_audio[int(call_onset*fs):int(call_offset*fs)]\n",
    "    call_mic2 = mic2_audio[int(call_onset*fs):int(call_offset*fs)]\n",
    "    call_mic3 = mic3_audio[int(call_onset*fs):int(call_offset*fs)]  \n",
    "\n",
    "\n",
    "    nfft = 1024\n",
    "    if plotting:\n",
    "        fig=plt.figure()\n",
    "        ax1=plt.subplot(4,2,1)\n",
    "        pxx, freqs, bins, im = specgram(call_mic0, NFFT=nfft, Fs=fs, noverlap=nfft/2,\n",
    "                                       clim=(-100,-80))\n",
    "        plt.ylim(0,40000)\n",
    "        plt.ylabel('mic 0')\n",
    "\n",
    "        ax1=plt.subplot(4,2,3)\n",
    "        pxx, freqs, bins, im = specgram(call_mic1, NFFT=nfft, Fs=fs, noverlap=nfft/2,\n",
    "                                       clim=(-100,-80))\n",
    "        plt.ylim(0,40000)\n",
    "        plt.ylabel('mic 1')\n",
    "\n",
    "        ax1=plt.subplot(4,2,5)\n",
    "        pxx, freqs, bins, im = specgram(call_mic2, NFFT=nfft, Fs=fs, noverlap=nfft/2,\n",
    "                                       clim=(-100,-80))\n",
    "        plt.ylim(0,40000)\n",
    "        plt.ylabel('mic 2')\n",
    "\n",
    "        ax1=plt.subplot(4,2,7)\n",
    "        pxx, freqs, bins, im = specgram(call_mic3, NFFT=nfft, Fs=fs, noverlap=nfft/2,\n",
    "                                       clim=(-100,-80))\n",
    "        plt.ylim(0,40000)\n",
    "        plt.ylabel('mic 3')\n",
    "\n",
    "    # filter data\n",
    "    start_fs = 6500\n",
    "    end_fs = 7500\n",
    "    mic0_audio_bp = butter_bandpass_filter(call_mic0, start_fs, end_fs, fs)  # YOU CAN AUTODETECT THIS\n",
    "    mic1_audio_bp = butter_bandpass_filter(call_mic1, start_fs, end_fs, fs)\n",
    "    mic2_audio_bp = butter_bandpass_filter(call_mic2, start_fs, end_fs, fs)\n",
    "    mic3_audio_bp = butter_bandpass_filter(call_mic3, start_fs, end_fs, fs)\n",
    "\n",
    "    if plotting:\n",
    "        ax2=plt.subplot(4,2,2)\n",
    "        pxx, freqs, bins, im = specgram(mic0_audio_bp, NFFT=nfft, Fs=fs, noverlap=nfft/2,\n",
    "                                       clim=(-100,-80))\n",
    "        plt.ylim(0,40000)\n",
    "\n",
    "        ax2=plt.subplot(4,2,4)\n",
    "        pxx, freqs, bins, im = specgram(mic1_audio_bp, NFFT=nfft, Fs=fs, noverlap=nfft/2,\n",
    "                                       clim=(-100,-80))\n",
    "        plt.ylim(0,40000)\n",
    "\n",
    "        ax2=plt.subplot(4,2,6)\n",
    "        pxx, freqs, bins, im = specgram(mic2_audio_bp, NFFT=nfft, Fs=fs, noverlap=nfft/2,\n",
    "                                       clim=(-100,-80))\n",
    "        plt.ylim(0,40000)\n",
    "\n",
    "        ax2=plt.subplot(4,2,8)\n",
    "        pxx, freqs, bins, im = specgram(mic3_audio_bp, NFFT=nfft, Fs=fs, noverlap=nfft/2,\n",
    "                                       clim=(-100,-80))\n",
    "        plt.ylim(0,40000)\n",
    "\n",
    "        plt.suptitle(os.path.split(fname)[1])\n",
    "    \n",
    "    if filter_data:\n",
    "        return (mic0_audio_bp, mic1_audio_bp, mic2_audio_bp, mic3_audio_bp)\n",
    "    else:\n",
    "        return (call_mic0, call_mic1, call_mic2, call_mic3)\n",
    "    \n",
    "from scipy.signal import butter, lfilter\n",
    "\n",
    "def butter_bandpass(lowcut, highcut, fs, order=5):\n",
    "    nyq = 0.5 * fs\n",
    "    low = lowcut / nyq\n",
    "    high = highcut / nyq\n",
    "    b, a = butter(order, [low, high], btype='band')\n",
    "    return b, a\n",
    "\n",
    "\n",
    "def butter_bandpass_filter(data, lowcut, highcut, fs, order=5):\n",
    "    b, a = butter_bandpass(lowcut, highcut, fs, order=order)\n",
    "    y = lfilter(b, a, data)\n",
    "    return y\n",
    "\n"
   ]
  },
  {
   "cell_type": "code",
   "execution_count": 23,
   "metadata": {},
   "outputs": [
    {
     "name": "stdout",
     "output_type": "stream",
     "text": [
      "LED Light:  (30000,)\n"
     ]
    }
   ],
   "source": [
    "# Load video file\n",
    "fname = \"/media/cat/4TBSSD/dan/july_19/2020_07_24_15_11_26_425064/video/2020_07_24_15_11_26_425064.avi\"\n",
    "\n",
    "fname_light = fname[:-4]+\"_light.npy\"\n",
    "if os.path.exists(fname_light)==False:\n",
    "    cap = cv2.VideoCapture(fname)\n",
    "\n",
    "    # make a downsampled version of the video; Even more should be ok\n",
    "    vid = np.zeros((30000,1024//4,1280//4),'uint8')\n",
    "\n",
    "    ctr=0\n",
    "    while(cap.isOpened()):\n",
    "        if ctr%1000==0:\n",
    "            print (ctr)\n",
    "        ret, frame = cap.read()\n",
    "        vid[ctr]=frame[::4,::4].max()\n",
    "\n",
    "        if cv2.waitKey(1) & 0xFF == ord('q'):\n",
    "            break\n",
    "        ctr+=1\n",
    "\n",
    "    cap.release()\n",
    "    cv2.destroyAllWindows()\n",
    "    print (\"Video file: \", vid.shape)\n",
    "    # Find the pixel with LED light and track it's max over all 3 color channels over time\n",
    "    light = vid[:,147, 306].max(1)\n",
    "    print(light.shape)\n",
    "    np.save(fname_light, light)\n",
    "else:\n",
    "    light = np.load(fname_light)\n",
    "print (\"LED Light: \", light.shape)"
   ]
  },
  {
   "cell_type": "code",
   "execution_count": 3,
   "metadata": {},
   "outputs": [
    {
     "name": "stdout",
     "output_type": "stream",
     "text": [
      "(30000,)\n"
     ]
    }
   ],
   "source": [
    "# Load audio file\n",
    "mic4 = np.load('/media/cat/4TBSSD/dan/july_19/2020_07_24_15_11_26_425064/audio/2020_07_24_15_11_26_425064_audio_mic_4.npy')\n",
    "print (\"audio file: \", mic4.shape)"
   ]
  },
  {
   "cell_type": "code",
   "execution_count": 24,
   "metadata": {},
   "outputs": [],
   "source": [
    "# Visualize data against each other\n",
    "t_led = np.arange(light.shape[0])/25.\n",
    "temp = light-light.mean(0)\n",
    "plt.plot(t_led, temp/50., c='red')\n",
    "\n",
    "# plot mic ttl pulse\n",
    "mic4_subsampled = mic4[::10]\n",
    "t_mic = np.arange(mic4_subsampled.shape[0])/12500.\n",
    "temp = mic4_subsampled-mic4_subsampled.mean(0)\n",
    "plt.plot(t_mic, temp+2.8,c='blue')\n",
    "\n",
    "# formating\n",
    "plt.title(\"LED: red;   TTL Pulse: Blue\", fontsize=20)\n",
    "plt.xlim(0,1200)\n",
    "plt.yticks([])\n",
    "plt.xlabel(\"Time (sec)\",fontsize=20)\n",
    "plt.show()"
   ]
  },
  {
   "cell_type": "code",
   "execution_count": null,
   "metadata": {},
   "outputs": [],
   "source": []
  }
 ],
 "metadata": {
  "kernelspec": {
   "display_name": "Python 3",
   "language": "python",
   "name": "python3"
  },
  "language_info": {
   "codemirror_mode": {
    "name": "ipython",
    "version": 3
   },
   "file_extension": ".py",
   "mimetype": "text/x-python",
   "name": "python",
   "nbconvert_exporter": "python",
   "pygments_lexer": "ipython3",
   "version": "3.7.6"
  }
 },
 "nbformat": 4,
 "nbformat_minor": 2
}
